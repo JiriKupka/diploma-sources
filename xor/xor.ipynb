{
 "cells": [
  {
   "cell_type": "code",
   "execution_count": 2,
   "metadata": {
    "collapsed": false
   },
   "outputs": [],
   "source": [
    "import numpy as np\n",
    "import caffe\n",
    "\n",
    "caffe.set_mode_cpu()\n",
    "net = caffe.Net('train_test.prototxt','snapshot_iter_500.caffemodel',caffe.TEST)\n",
    "\n",
    "data = [[0,0],[1,0],[0,1],[1,1]]\n",
    "\n",
    "net.blobs['data'].data[...] = np.array(data)\n",
    "out = net.forward()"
   ]
  },
  {
   "cell_type": "code",
   "execution_count": 3,
   "metadata": {
    "collapsed": false
   },
   "outputs": [
    {
     "name": "stdout",
     "output_type": "stream",
     "text": [
      "[[ 0.02244937]\n",
      " [ 0.99217367]\n",
      " [ 0.99251407]\n",
      " [ 0.00279293]]\n"
     ]
    }
   ],
   "source": [
    "print out['ip2']"
   ]
  },
  {
   "cell_type": "code",
   "execution_count": null,
   "metadata": {
    "collapsed": true
   },
   "outputs": [],
   "source": []
  }
 ],
 "metadata": {
  "kernelspec": {
   "display_name": "Python 2",
   "language": "python",
   "name": "python2"
  },
  "language_info": {
   "codemirror_mode": {
    "name": "ipython",
    "version": 2
   },
   "file_extension": ".py",
   "mimetype": "text/x-python",
   "name": "python",
   "nbconvert_exporter": "python",
   "pygments_lexer": "ipython2",
   "version": "2.7.6"
  }
 },
 "nbformat": 4,
 "nbformat_minor": 0
}
